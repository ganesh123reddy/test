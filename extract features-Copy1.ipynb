{
 "cells": [
  {
   "cell_type": "code",
   "execution_count": null,
   "metadata": {},
   "outputs": [],
   "source": [
    "# import os\n",
    "# import tensorflow\n",
    "# os.environ[\"CUDA_DEVICE_ORDER\"] = \"PCI_BUS_ID\"\n",
    "# os.environ['CUDA_VISIBLE_DEVICES'] = '-1'\n",
    "\n",
    "\n",
    "# os.environ['CUDA_VISIBLE_DEVICES'] = '-1'\n",
    "\n",
    "# if tensorflow.test.gpu_device_name():\n",
    "#     print('GPU found')\n",
    "# else:\n",
    "#     print(\"No GPU found\")\n",
    "\n",
    "\n",
    "# # test_eval = model.evaluate(X_test, Y_test, verbose=0)\n",
    "# # print('Test loss:', test_eval[0])\n",
    "# # print('Test accuracy:', test_eval[1])"
   ]
  },
  {
   "cell_type": "code",
   "execution_count": 1,
   "metadata": {},
   "outputs": [
    {
     "name": "stderr",
     "output_type": "stream",
     "text": [
      "Using TensorFlow backend.\n"
     ]
    }
   ],
   "source": [
    "import numpy as np\n",
    "from keras.utils.np_utils import to_categorical\n",
    "import imageio"
   ]
  },
  {
   "cell_type": "code",
   "execution_count": 2,
   "metadata": {},
   "outputs": [],
   "source": [
    "from tensorflow.keras import models,layers,optimizers,applications\n",
    "from tensorflow.keras import backend as K\n",
    "from tensorflow.keras.preprocessing.image import ImageDataGenerator\n",
    "from tensorflow.keras.models import Sequential, load_model, Model\n",
    "from tensorflow.keras.applications.resnet50 import ResNet50\n",
    "from tensorflow.keras.applications.inception_v3 import InceptionV3\n",
    "from tensorflow.keras.applications.inception_resnet_v2 import InceptionResNetV2\n",
    "from tensorflow.keras.layers import Dense, Activation, Flatten, Conv2D, RepeatVector, MaxPooling2D, GlobalAveragePooling2D\n",
    "from tensorflow.keras.layers import Dropout, BatchNormalization, ZeroPadding2D, UpSampling2D, LSTM, Bidirectional\n",
    "from tensorflow.keras.layers import Activation, Reshape, Add, Multiply, Lambda, AveragePooling2D, TimeDistributed\n",
    "from tensorflow.keras.layers import MaxPooling2D, Dropout, Input, MaxPool2D\n",
    "from tensorflow.keras.optimizers import SGD, Adam, Nadam, RMSprop, Adagrad\n",
    "from tensorflow.keras.regularizers import l2\n",
    "from tensorflow.keras.callbacks import ModelCheckpoint, ReduceLROnPlateau, EarlyStopping\n",
    "from tensorflow.keras.applications.vgg16 import VGG16\n",
    "from tensorflow.keras.applications.vgg19 import VGG19\n",
    "from tensorflow.keras.preprocessing import image\n",
    "from tensorflow.keras.applications.vgg16 import preprocess_input\n",
    "from tensorflow.keras.layers import PReLU\n",
    "from tensorflow.keras.activations import linear as linear_activation\n",
    "from tensorflow.keras import initializers\n",
    "from tensorflow.keras.utils import to_categorical"
   ]
  },
  {
   "cell_type": "code",
   "execution_count": 3,
   "metadata": {},
   "outputs": [],
   "source": [
    "from sklearn.metrics import f1_score\n",
    "from sklearn.metrics import fbeta_score\n",
    "from sklearn.metrics import classification_report,confusion_matrix\n",
    "from sklearn.metrics import accuracy_score\n",
    "from sklearn.metrics import f1_score\n",
    "from sklearn.metrics import precision_score\n",
    "from sklearn.metrics import recall_score\n",
    "\n",
    "\n",
    "import pandas as pd\n",
    "from sklearn.model_selection import train_test_split\n",
    "from sklearn.ensemble import RandomForestClassifier\n",
    "from sklearn.metrics import accuracy_score\n",
    "from sklearn.metrics import confusion_matrix"
   ]
  },
  {
   "cell_type": "code",
   "execution_count": 4,
   "metadata": {},
   "outputs": [
    {
     "name": "stdout",
     "output_type": "stream",
     "text": [
      "Hi\n",
      "The shape of the image samples matrix is (2880, 512, 512, 3).\n",
      "\n"
     ]
    }
   ],
   "source": [
    "import os\n",
    "from shutil import copyfile\n",
    "\n",
    "# copyfile(src, dst)\n",
    "directory='../DATASETS/DatasetRef/'\n",
    "dict_clss = {}\n",
    "dict_clss['Agricluture'] = 1\n",
    "dict_clss['Forest'] = 2\n",
    "dict_clss['River'] = 3\n",
    "l = []\n",
    "print('Hi')\n",
    "images = []\n",
    "labels = []\n",
    "for dire in os.listdir(directory):\n",
    "    isDirectory = (os.path.isdir(directory+dire)) and (dire[0] != '.')\n",
    "    if isDirectory:\n",
    "        dire = directory + dire\n",
    "        for subdir in sorted(os.listdir(dire)):\n",
    "            isDirectory = (os.path.isdir(dire+'/'+subdir))\n",
    "            if isDirectory:\n",
    "#                 print(dire,subdir)\n",
    "                for ssdir in os.listdir(dire+'/'+subdir):\n",
    "                    isDirectory = (os.path.isdir(dire+'/'+subdir+'/'+ssdir))\n",
    "                    for files in os.listdir(dire+'/'+subdir+'/'+ssdir):\n",
    "#                         print(files,(dire.split('/'))[-1])\n",
    "                        current_image = imageio.imread(dire + '/' + subdir + '/' + ssdir + '/' + files)\n",
    "                        remove_from_x = current_image.shape[0] - 512\n",
    "                        remove_from_y = current_image.shape[1] - 512\n",
    "                        current_image = current_image[remove_from_x:, remove_from_y:]\n",
    "                        if current_image.shape[0] != 512:\n",
    "                            pad_x = 512 - current_image.shape[0]\n",
    "                            z = np.zeros((pad_x,current_image.shape[1],3), dtype=np.int64)\n",
    "                            current_image = np.concatenate((current_image,z),axis=0)\n",
    "\n",
    "                        if current_image.shape[1] != 512:\n",
    "                            pad_y = 512 - current_image.shape[1]\n",
    "                            p = np.zeros((512,pad_y,3), dtype=np.int64)\n",
    "                            current_image = np.concatenate((current_image,p),axis=1)\n",
    "                        images.append(current_image)\n",
    "                        labels.append(dict_clss[str((dire.split('/'))[-1])])\n",
    "\n",
    "images = np.array(images, dtype=np.float32)\n",
    "images = images / 255\n",
    "\n",
    "print( \"The shape of the image samples matrix is {}.\\n\".format(images.shape) )\n",
    "            \n",
    "#                     for files in os.listdir(directory+'/'+dire+'/'+subdir):\n",
    "#                         count = count + 1\n",
    "#                         sub = count % 24\n",
    "#                         if sub == 0:\n",
    "#                             sub = 24\n",
    "#                         if not os.path.exists(outputpath+'/'+ dire +'/' + subdir + '/' + str(sub)):\n",
    "#                             os.mkdir(outputpath+'/'+ dire +'/' + subdir + '/' + str(sub))\n",
    "#                         copyfile(directory+'/'+dire+'/'+subdir+'/'+files , outputpath+'/'+ dire +'/' + subdir + '/' + str(sub) + '/' + files )\n",
    "\n",
    "                "
   ]
  },
  {
   "cell_type": "code",
   "execution_count": 5,
   "metadata": {},
   "outputs": [
    {
     "data": {
      "text/plain": [
       "(2880,)"
      ]
     },
     "execution_count": 5,
     "metadata": {},
     "output_type": "execute_result"
    }
   ],
   "source": [
    "np.array(labels).shape"
   ]
  },
  {
   "cell_type": "code",
   "execution_count": 6,
   "metadata": {},
   "outputs": [
    {
     "name": "stdout",
     "output_type": "stream",
     "text": [
      "(2880, 4)\n",
      "(576, 4)\n",
      "The shape of the image samples matrix is (576, 5, 512, 512).\n",
      "\n"
     ]
    }
   ],
   "source": [
    "# classes = ['Agricultural','Forest','River']\n",
    "for i in range(len(labels)):\n",
    "    labels[i] = labels[i]\n",
    "labels1 = []\n",
    "labels1 = to_categorical(labels, num_classes = None)\n",
    "images1 = []\n",
    "labels2 = []\n",
    "print(labels1.shape)\n",
    "images = np.reshape(images,(2880,3,512,512))\n",
    "for i in range(0,2880,5):\n",
    "    t=[]\n",
    "    for j in range(5):\n",
    "        t.append(np.maximum(images[i+j][0],images[i+j][1],images[i+j][2]))\n",
    "    images1.append(t)\n",
    "    labels2.append(labels1[i])\n",
    "images1 = np.array(images1,dtype = np.float32)\n",
    "print(np.array(labels2).shape)\n",
    "# images1 = np.reshape(images1,(2880,512,512,5))\n",
    "print( \"The shape of the image samples matrix is {}.\\n\".format(images1.shape) )\n",
    "# np.save(\"UcmImages.npy\", images)\n",
    "# np.save(\"UcmLabels.npy\", labels1)"
   ]
  },
  {
   "cell_type": "code",
   "execution_count": 7,
   "metadata": {},
   "outputs": [],
   "source": [
    "np.save(\"UcmImages1.npy\", images1)\n",
    "np.save(\"UcmLabels1.npy\", labels2)"
   ]
  },
  {
   "cell_type": "code",
   "execution_count": null,
   "metadata": {},
   "outputs": [],
   "source": []
  }
 ],
 "metadata": {
  "kernelspec": {
   "display_name": "Python 3",
   "language": "python",
   "name": "python3"
  },
  "language_info": {
   "codemirror_mode": {
    "name": "ipython",
    "version": 3
   },
   "file_extension": ".py",
   "mimetype": "text/x-python",
   "name": "python",
   "nbconvert_exporter": "python",
   "pygments_lexer": "ipython3",
   "version": "3.7.3"
  }
 },
 "nbformat": 4,
 "nbformat_minor": 2
}
